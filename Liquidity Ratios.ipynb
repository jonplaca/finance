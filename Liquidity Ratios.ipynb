{
 "cells": [
  {
   "cell_type": "markdown",
   "metadata": {},
   "source": [
    "# Liquidity Ratios\n",
    "\n",
    "In our previous lesson, we learned about [Cash Conversion Cycles](https://www.linkedin.com/pulse/cash-king-calculating-conversion-cycles-determine-companys-jon-placa), an [Efficiency Ratio](http://www.investopedia.com/terms/e/efficiencyratio.asp) used to express the time length required to create, sell, and collect payables on inventory. However, Efficiency Ratios are only one four Financial ratio categories (i.e [efficiency, liquidity, solvency, and profitability](http://smallbusiness.chron.com/four-basic-types-financial-ratios-used-measure-companys-performance-25299.html)). The following tutorial will focus on [Liquidity Ratios](http://www.investopedia.com/terms/l/liquidityratios.asp) - measurements used to identify potential short-terms financing risks. \n",
    "\n",
    "In our examples, we will be using Boeing's ([BA](https://www.google.com/finance?q=BA&ei=lDP1WNGdJdWHsQGBzYe4CA)) financial statements to produce our liquidity ratios. Information will be obtained using [Quandl's API](https://github.com/quandl/quandl-python).\n"
   ]
  },
  {
   "cell_type": "code",
   "execution_count": 2,
   "metadata": {
    "collapsed": false
   },
   "outputs": [
    {
     "data": {
      "text/html": [
       "<div>\n",
       "<table border=\"1\" class=\"dataframe\">\n",
       "  <thead>\n",
       "    <tr style=\"text-align: right;\">\n",
       "      <th></th>\n",
       "      <th>m_ticker</th>\n",
       "      <th>ticker</th>\n",
       "      <th>comp_name</th>\n",
       "      <th>comp_name_2</th>\n",
       "      <th>exchange</th>\n",
       "      <th>currency_code</th>\n",
       "      <th>per_end_date</th>\n",
       "      <th>per_type</th>\n",
       "      <th>per_code</th>\n",
       "      <th>per_fisc_year</th>\n",
       "      <th>...</th>\n",
       "      <th>stock_based_compsn_qd</th>\n",
       "      <th>cash_flow_oper_activity_qd</th>\n",
       "      <th>net_change_prop_plant_equip_qd</th>\n",
       "      <th>comm_stock_div_paid_qd</th>\n",
       "      <th>pref_stock_div_paid_qd</th>\n",
       "      <th>tot_comm_pref_stock_div_qd</th>\n",
       "      <th>wavg_shares_out</th>\n",
       "      <th>wavg_shares_out_diluted</th>\n",
       "      <th>eps_basic_net</th>\n",
       "      <th>eps_diluted_net</th>\n",
       "    </tr>\n",
       "    <tr>\n",
       "      <th>None</th>\n",
       "      <th></th>\n",
       "      <th></th>\n",
       "      <th></th>\n",
       "      <th></th>\n",
       "      <th></th>\n",
       "      <th></th>\n",
       "      <th></th>\n",
       "      <th></th>\n",
       "      <th></th>\n",
       "      <th></th>\n",
       "      <th></th>\n",
       "      <th></th>\n",
       "      <th></th>\n",
       "      <th></th>\n",
       "      <th></th>\n",
       "      <th></th>\n",
       "      <th></th>\n",
       "      <th></th>\n",
       "      <th></th>\n",
       "      <th></th>\n",
       "      <th></th>\n",
       "    </tr>\n",
       "  </thead>\n",
       "  <tbody>\n",
       "    <tr>\n",
       "      <th>0</th>\n",
       "      <td>BA</td>\n",
       "      <td>BA</td>\n",
       "      <td>BOEING CO</td>\n",
       "      <td>Boeing Company (The)</td>\n",
       "      <td>NYSE</td>\n",
       "      <td>USD</td>\n",
       "      <td>2011-12-31</td>\n",
       "      <td>A</td>\n",
       "      <td>None</td>\n",
       "      <td>2011</td>\n",
       "      <td>...</td>\n",
       "      <td>None</td>\n",
       "      <td>None</td>\n",
       "      <td>None</td>\n",
       "      <td>None</td>\n",
       "      <td>None</td>\n",
       "      <td>None</td>\n",
       "      <td>744.1</td>\n",
       "      <td>750.6</td>\n",
       "      <td>5.39</td>\n",
       "      <td>5.34</td>\n",
       "    </tr>\n",
       "    <tr>\n",
       "      <th>1</th>\n",
       "      <td>BA</td>\n",
       "      <td>BA</td>\n",
       "      <td>BOEING CO</td>\n",
       "      <td>Boeing Company (The)</td>\n",
       "      <td>NYSE</td>\n",
       "      <td>USD</td>\n",
       "      <td>2012-12-31</td>\n",
       "      <td>A</td>\n",
       "      <td>None</td>\n",
       "      <td>2012</td>\n",
       "      <td>...</td>\n",
       "      <td>None</td>\n",
       "      <td>None</td>\n",
       "      <td>None</td>\n",
       "      <td>None</td>\n",
       "      <td>None</td>\n",
       "      <td>None</td>\n",
       "      <td>755.7</td>\n",
       "      <td>761.5</td>\n",
       "      <td>5.15</td>\n",
       "      <td>5.11</td>\n",
       "    </tr>\n",
       "    <tr>\n",
       "      <th>2</th>\n",
       "      <td>BA</td>\n",
       "      <td>BA</td>\n",
       "      <td>BOEING CO</td>\n",
       "      <td>Boeing Company (The)</td>\n",
       "      <td>NYSE</td>\n",
       "      <td>USD</td>\n",
       "      <td>2013-12-31</td>\n",
       "      <td>A</td>\n",
       "      <td>None</td>\n",
       "      <td>2013</td>\n",
       "      <td>...</td>\n",
       "      <td>None</td>\n",
       "      <td>None</td>\n",
       "      <td>None</td>\n",
       "      <td>None</td>\n",
       "      <td>None</td>\n",
       "      <td>None</td>\n",
       "      <td>758.9</td>\n",
       "      <td>767.6</td>\n",
       "      <td>6.03</td>\n",
       "      <td>5.96</td>\n",
       "    </tr>\n",
       "    <tr>\n",
       "      <th>3</th>\n",
       "      <td>BA</td>\n",
       "      <td>BA</td>\n",
       "      <td>BOEING CO</td>\n",
       "      <td>Boeing Company (The)</td>\n",
       "      <td>NYSE</td>\n",
       "      <td>USD</td>\n",
       "      <td>2014-12-31</td>\n",
       "      <td>A</td>\n",
       "      <td>None</td>\n",
       "      <td>2014</td>\n",
       "      <td>...</td>\n",
       "      <td>None</td>\n",
       "      <td>None</td>\n",
       "      <td>None</td>\n",
       "      <td>None</td>\n",
       "      <td>None</td>\n",
       "      <td>None</td>\n",
       "      <td>727.6</td>\n",
       "      <td>736.7</td>\n",
       "      <td>7.47</td>\n",
       "      <td>7.38</td>\n",
       "    </tr>\n",
       "    <tr>\n",
       "      <th>4</th>\n",
       "      <td>BA</td>\n",
       "      <td>BA</td>\n",
       "      <td>BOEING CO</td>\n",
       "      <td>Boeing Company (The)</td>\n",
       "      <td>NYSE</td>\n",
       "      <td>USD</td>\n",
       "      <td>2015-12-31</td>\n",
       "      <td>A</td>\n",
       "      <td>None</td>\n",
       "      <td>2015</td>\n",
       "      <td>...</td>\n",
       "      <td>None</td>\n",
       "      <td>None</td>\n",
       "      <td>None</td>\n",
       "      <td>None</td>\n",
       "      <td>None</td>\n",
       "      <td>None</td>\n",
       "      <td>686.9</td>\n",
       "      <td>695.0</td>\n",
       "      <td>7.52</td>\n",
       "      <td>7.44</td>\n",
       "    </tr>\n",
       "    <tr>\n",
       "      <th>5</th>\n",
       "      <td>BA</td>\n",
       "      <td>BA</td>\n",
       "      <td>BOEING CO</td>\n",
       "      <td>Boeing Company (The)</td>\n",
       "      <td>NYSE</td>\n",
       "      <td>USD</td>\n",
       "      <td>2016-12-31</td>\n",
       "      <td>A</td>\n",
       "      <td>None</td>\n",
       "      <td>2016</td>\n",
       "      <td>...</td>\n",
       "      <td>None</td>\n",
       "      <td>None</td>\n",
       "      <td>None</td>\n",
       "      <td>None</td>\n",
       "      <td>None</td>\n",
       "      <td>None</td>\n",
       "      <td>635.5</td>\n",
       "      <td>642.8</td>\n",
       "      <td>7.70</td>\n",
       "      <td>7.61</td>\n",
       "    </tr>\n",
       "  </tbody>\n",
       "</table>\n",
       "<p>6 rows × 249 columns</p>\n",
       "</div>"
      ],
      "text/plain": [
       "     m_ticker ticker  comp_name           comp_name_2 exchange currency_code  \\\n",
       "None                                                                           \n",
       "0          BA     BA  BOEING CO  Boeing Company (The)     NYSE           USD   \n",
       "1          BA     BA  BOEING CO  Boeing Company (The)     NYSE           USD   \n",
       "2          BA     BA  BOEING CO  Boeing Company (The)     NYSE           USD   \n",
       "3          BA     BA  BOEING CO  Boeing Company (The)     NYSE           USD   \n",
       "4          BA     BA  BOEING CO  Boeing Company (The)     NYSE           USD   \n",
       "5          BA     BA  BOEING CO  Boeing Company (The)     NYSE           USD   \n",
       "\n",
       "     per_end_date per_type per_code  per_fisc_year       ...         \\\n",
       "None                                                     ...          \n",
       "0      2011-12-31        A     None           2011       ...          \n",
       "1      2012-12-31        A     None           2012       ...          \n",
       "2      2013-12-31        A     None           2013       ...          \n",
       "3      2014-12-31        A     None           2014       ...          \n",
       "4      2015-12-31        A     None           2015       ...          \n",
       "5      2016-12-31        A     None           2016       ...          \n",
       "\n",
       "      stock_based_compsn_qd  cash_flow_oper_activity_qd  \\\n",
       "None                                                      \n",
       "0                      None                        None   \n",
       "1                      None                        None   \n",
       "2                      None                        None   \n",
       "3                      None                        None   \n",
       "4                      None                        None   \n",
       "5                      None                        None   \n",
       "\n",
       "      net_change_prop_plant_equip_qd comm_stock_div_paid_qd  \\\n",
       "None                                                          \n",
       "0                               None                   None   \n",
       "1                               None                   None   \n",
       "2                               None                   None   \n",
       "3                               None                   None   \n",
       "4                               None                   None   \n",
       "5                               None                   None   \n",
       "\n",
       "     pref_stock_div_paid_qd  tot_comm_pref_stock_div_qd  wavg_shares_out  \\\n",
       "None                                                                       \n",
       "0                      None                        None            744.1   \n",
       "1                      None                        None            755.7   \n",
       "2                      None                        None            758.9   \n",
       "3                      None                        None            727.6   \n",
       "4                      None                        None            686.9   \n",
       "5                      None                        None            635.5   \n",
       "\n",
       "      wavg_shares_out_diluted  eps_basic_net  eps_diluted_net  \n",
       "None                                                           \n",
       "0                       750.6           5.39             5.34  \n",
       "1                       761.5           5.15             5.11  \n",
       "2                       767.6           6.03             5.96  \n",
       "3                       736.7           7.47             7.38  \n",
       "4                       695.0           7.52             7.44  \n",
       "5                       642.8           7.70             7.61  \n",
       "\n",
       "[6 rows x 249 columns]"
      ]
     },
     "execution_count": 2,
     "metadata": {},
     "output_type": "execute_result"
    }
   ],
   "source": [
    "#Importing Quandl API\n",
    "import quandl\n",
    "\n",
    "#API Key Application\n",
    "quandl.ApiConfig.api_key = '[API KEY]'\n",
    "quandl.ApiConfig.api_version = '2015-04-09'\n",
    "\n",
    "#Pull in Quandl data for BA (Boeing Co.)\n",
    "data = quandl.get_table('ZACKS/FC', ticker='BA', per_type='A')\n",
    "data.head(10)\n"
   ]
  },
  {
   "cell_type": "markdown",
   "metadata": {},
   "source": [
    "## Current Ratio\n",
    "\n",
    "By far, one of the simplest liquidity ratios, is the \"Current Ratio\". The Current Ratio compares the Balance Sheet's Current Assets to Current Liabilities. The theory behind the Current Ratio highlights the company's ability to cover any short-term risks/liabilities; simply put the Current Ratio answers the question, \"*does a company have the ability to pay off its short-term obligations with its short-term assets?*\" At a minimum, a company should achieve a Current Ratio > 1.0.\n",
    "\n",
    "**Current Ratio = Current Assets / Current Liabilities**\n"
   ]
  },
  {
   "cell_type": "code",
   "execution_count": 3,
   "metadata": {
    "collapsed": false
   },
   "outputs": [
    {
     "name": "stdout",
     "output_type": "stream",
     "text": [
      "None\n",
      "5    62488.0\n",
      "Name: tot_curr_asset, dtype: float64\n",
      "None\n",
      "5    50134.0\n",
      "Name: tot_curr_liab, dtype: float64\n"
     ]
    },
    {
     "data": {
      "text/plain": [
       "None\n",
       "5    1.24642\n",
       "dtype: float64"
      ]
     },
     "execution_count": 3,
     "metadata": {},
     "output_type": "execute_result"
    }
   ],
   "source": [
    "#Current Ratio of Boeing\n",
    "\n",
    "\n",
    "currentAssets = data[data['per_fisc_year']==2016]['tot_curr_asset']\n",
    "print (currentAssets)\n",
    "currentLiabilities = data[data['per_fisc_year']==2016]['tot_curr_liab']\n",
    "print (currentLiabilities)\n",
    "\n",
    "\n",
    "currentRatio = currentAssets / currentLiabilities\n",
    "currentRatio"
   ]
  },
  {
   "cell_type": "markdown",
   "metadata": {
    "collapsed": true
   },
   "source": [
    "As we can see, Boeing has a Current Ratio > 1.0, indicating that their current assets can cover any current liabilities that they may have. However, after closer investigation one can conclude that, while the Current Ratio > 1.0, the current assets may be comprised of inventory only - inventory that will take time to sell. In the scenario where a company (i.e Boeing) holds a significant amount of inventory, Finacial Analysts may prefer to use a ratio that excludes inventory to truly understand the liquidity of a company. \n"
   ]
  },
  {
   "cell_type": "markdown",
   "metadata": {},
   "source": [
    "## Quick Ratio\n",
    "\n",
    "Contrary to the Current Ratio, the Quick Ratio excludes Inventory from the ratio calculation. As a result, the Quick Ratio equals (Current Liabilities - Inventory) / Current Assets; this calculation is a more conservative approach into calculating the liquidity of a company and useful for evaluating companies that hold large inventories. \n",
    "\n",
    "**Quick Ratio = (Current Assets - Inventory) / Current Liabilities**"
   ]
  },
  {
   "cell_type": "code",
   "execution_count": 8,
   "metadata": {
    "collapsed": false
   },
   "outputs": [
    {
     "name": "stdout",
     "output_type": "stream",
     "text": [
      "None\n",
      "5    43199.0\n",
      "Name: invty, dtype: float64\n"
     ]
    },
    {
     "data": {
      "text/plain": [
       "None\n",
       "5    0.384749\n",
       "dtype: float64"
      ]
     },
     "execution_count": 8,
     "metadata": {},
     "output_type": "execute_result"
    }
   ],
   "source": [
    "#Quick Ratio of Boeing\n",
    "inventory = data[data['per_fisc_year']==2016]['invty']\n",
    "print (inventory)\n",
    "\n",
    "quickRatio = (currentAssets - inventory) / currentLiabilities\n",
    "quickRatio"
   ]
  },
  {
   "cell_type": "markdown",
   "metadata": {},
   "source": [
    "As we now see, the Quick Ratio has greatly reduced the comparison between Current Assets and Current Liabilities. However, while the Current Ratio is < 1.0 and may be indicative of posing risk of defaulting on any short-term obligations, everything must be taken with respect to industry context. For example, Boeing's Quick Ratio is comparable to their competitor [Airbus (Quick Ratio 0.40)](http://financials.morningstar.com/ratios/r.html?t=EADSY). Therefore, in terms of the industry, Boeing isn't an outlier in terms of its Quick Ratio."
   ]
  },
  {
   "cell_type": "markdown",
   "metadata": {},
   "source": [
    "## Cash Asset Ratio\n",
    "\n",
    "Finally, one of the most conservative ratios used in Financial Analysis is the Cash Asset Ratio. As one may guess, the Cash Asset Ratio is the comparison between a company's available cash versus current liabilities. Due to the conservative nature of the Cash Asset Ratio, this ratio is primarily reservered for financial institutions who are evaluating whether or not to lend to a borrower. \n",
    "\n",
    "**Cash Asset Ratio = Cash / Current Liabilities**"
   ]
  },
  {
   "cell_type": "code",
   "execution_count": 13,
   "metadata": {
    "collapsed": false
   },
   "outputs": [
    {
     "data": {
      "text/plain": [
       "None\n",
       "5    0.200044\n",
       "dtype: float64"
      ]
     },
     "execution_count": 13,
     "metadata": {},
     "output_type": "execute_result"
    }
   ],
   "source": [
    "#Cash Asset Ratio for Boeing\n",
    "#Note, we include Cash Equivalents such as Marketable Securities as apart of our Cash calculation\n",
    "cashAndEquivalents = inventory = data[data['per_fisc_year']==2016]['cash_sterm_invst']\n",
    "\n",
    "cashAssetRatio = cashAndEquivalents / currentLiabilities\n",
    "cashAssetRatio"
   ]
  },
  {
   "cell_type": "markdown",
   "metadata": {},
   "source": [
    "In our Cash Asset Ratio, we can conclude that Boeing would be able to immediately cover 20% of its Current Liabilities by depleting its Cash holdings. Again, this ratio has to be taken in context of the industry average to understand whether or not Boeing is an outlier. For example, [Airbus has a Cash Asset ratio of 0.26](http://financials.morningstar.com/balance-sheet/bs.html?t=EADSY&region=usa&culture=en-US), 30% greater than Boeing. As a result, Airbus may be able to borrow cash in greater multiples or more favorable terms than Boeing. "
   ]
  },
  {
   "cell_type": "markdown",
   "metadata": {},
   "source": [
    "# Conclusion\n",
    "\n",
    "In this tutorial we've review one category of Financial Ratios, Liquidity Ratios. In the subset of Liquidity Ratios, there are various calculations - some more conservative than others. Each Ratio has a specific purpose but indicates a company's relative financial health. Note, as always, a company's financial ratio must be compared to the industry averages. Finally, while these ratios may seem overly simplistic, they are well-tested, trusted, and valuable when analyzing any company."
   ]
  }
 ],
 "metadata": {
  "anaconda-cloud": {},
  "kernelspec": {
   "display_name": "Python [Root]",
   "language": "python",
   "name": "Python [Root]"
  },
  "language_info": {
   "codemirror_mode": {
    "name": "ipython",
    "version": 3
   },
   "file_extension": ".py",
   "mimetype": "text/x-python",
   "name": "python",
   "nbconvert_exporter": "python",
   "pygments_lexer": "ipython3",
   "version": "3.5.2"
  }
 },
 "nbformat": 4,
 "nbformat_minor": 0
}
