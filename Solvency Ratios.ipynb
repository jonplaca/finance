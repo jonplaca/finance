{
 "cells": [
  {
   "cell_type": "markdown",
   "metadata": {},
   "source": [
    "# Solvency Ratios\n",
    "\n",
    "Previously, we discussed [Liquidity Ratios](https://www.linkedin.com/pulse/liquidity-ratios-jon-placa) and their use as indicators of a company's short-term financial stability. Carrying the theme of \"financial stability\" forward, we will investigate [Solvency Ratios](http://www.investopedia.com/terms/s/solvency.asp), a company's ability to meet *long-term* obligations (including interest payments).\n",
    "\n",
    "Similar to our [Liquidity Ratio example](https://www.linkedin.com/pulse/liquidity-ratios-jon-placa), we will be using [Quandl's API](quandl.com) to pull Boeing's ([BA](http://financials.morningstar.com/ratios/r.html?t=BA)) financials.\n"
   ]
  },
  {
   "cell_type": "code",
   "execution_count": 1,
   "metadata": {
    "collapsed": false
   },
   "outputs": [
    {
     "data": {
      "text/html": [
       "<div>\n",
       "<table border=\"1\" class=\"dataframe\">\n",
       "  <thead>\n",
       "    <tr style=\"text-align: right;\">\n",
       "      <th></th>\n",
       "      <th>m_ticker</th>\n",
       "      <th>ticker</th>\n",
       "      <th>comp_name</th>\n",
       "      <th>comp_name_2</th>\n",
       "      <th>exchange</th>\n",
       "      <th>currency_code</th>\n",
       "      <th>per_end_date</th>\n",
       "      <th>per_type</th>\n",
       "      <th>per_code</th>\n",
       "      <th>per_fisc_year</th>\n",
       "      <th>...</th>\n",
       "      <th>stock_based_compsn_qd</th>\n",
       "      <th>cash_flow_oper_activity_qd</th>\n",
       "      <th>net_change_prop_plant_equip_qd</th>\n",
       "      <th>comm_stock_div_paid_qd</th>\n",
       "      <th>pref_stock_div_paid_qd</th>\n",
       "      <th>tot_comm_pref_stock_div_qd</th>\n",
       "      <th>wavg_shares_out</th>\n",
       "      <th>wavg_shares_out_diluted</th>\n",
       "      <th>eps_basic_net</th>\n",
       "      <th>eps_diluted_net</th>\n",
       "    </tr>\n",
       "    <tr>\n",
       "      <th>None</th>\n",
       "      <th></th>\n",
       "      <th></th>\n",
       "      <th></th>\n",
       "      <th></th>\n",
       "      <th></th>\n",
       "      <th></th>\n",
       "      <th></th>\n",
       "      <th></th>\n",
       "      <th></th>\n",
       "      <th></th>\n",
       "      <th></th>\n",
       "      <th></th>\n",
       "      <th></th>\n",
       "      <th></th>\n",
       "      <th></th>\n",
       "      <th></th>\n",
       "      <th></th>\n",
       "      <th></th>\n",
       "      <th></th>\n",
       "      <th></th>\n",
       "      <th></th>\n",
       "    </tr>\n",
       "  </thead>\n",
       "  <tbody>\n",
       "    <tr>\n",
       "      <th>0</th>\n",
       "      <td>BA</td>\n",
       "      <td>BA</td>\n",
       "      <td>BOEING CO</td>\n",
       "      <td>Boeing Company (The)</td>\n",
       "      <td>NYSE</td>\n",
       "      <td>USD</td>\n",
       "      <td>2011-12-31</td>\n",
       "      <td>A</td>\n",
       "      <td>None</td>\n",
       "      <td>2011</td>\n",
       "      <td>...</td>\n",
       "      <td>None</td>\n",
       "      <td>None</td>\n",
       "      <td>None</td>\n",
       "      <td>None</td>\n",
       "      <td>None</td>\n",
       "      <td>None</td>\n",
       "      <td>744.1</td>\n",
       "      <td>750.6</td>\n",
       "      <td>5.39</td>\n",
       "      <td>5.34</td>\n",
       "    </tr>\n",
       "    <tr>\n",
       "      <th>1</th>\n",
       "      <td>BA</td>\n",
       "      <td>BA</td>\n",
       "      <td>BOEING CO</td>\n",
       "      <td>Boeing Company (The)</td>\n",
       "      <td>NYSE</td>\n",
       "      <td>USD</td>\n",
       "      <td>2012-12-31</td>\n",
       "      <td>A</td>\n",
       "      <td>None</td>\n",
       "      <td>2012</td>\n",
       "      <td>...</td>\n",
       "      <td>None</td>\n",
       "      <td>None</td>\n",
       "      <td>None</td>\n",
       "      <td>None</td>\n",
       "      <td>None</td>\n",
       "      <td>None</td>\n",
       "      <td>755.7</td>\n",
       "      <td>761.5</td>\n",
       "      <td>5.15</td>\n",
       "      <td>5.11</td>\n",
       "    </tr>\n",
       "    <tr>\n",
       "      <th>2</th>\n",
       "      <td>BA</td>\n",
       "      <td>BA</td>\n",
       "      <td>BOEING CO</td>\n",
       "      <td>Boeing Company (The)</td>\n",
       "      <td>NYSE</td>\n",
       "      <td>USD</td>\n",
       "      <td>2013-12-31</td>\n",
       "      <td>A</td>\n",
       "      <td>None</td>\n",
       "      <td>2013</td>\n",
       "      <td>...</td>\n",
       "      <td>None</td>\n",
       "      <td>None</td>\n",
       "      <td>None</td>\n",
       "      <td>None</td>\n",
       "      <td>None</td>\n",
       "      <td>None</td>\n",
       "      <td>758.9</td>\n",
       "      <td>767.6</td>\n",
       "      <td>6.03</td>\n",
       "      <td>5.96</td>\n",
       "    </tr>\n",
       "    <tr>\n",
       "      <th>3</th>\n",
       "      <td>BA</td>\n",
       "      <td>BA</td>\n",
       "      <td>BOEING CO</td>\n",
       "      <td>Boeing Company (The)</td>\n",
       "      <td>NYSE</td>\n",
       "      <td>USD</td>\n",
       "      <td>2014-12-31</td>\n",
       "      <td>A</td>\n",
       "      <td>None</td>\n",
       "      <td>2014</td>\n",
       "      <td>...</td>\n",
       "      <td>None</td>\n",
       "      <td>None</td>\n",
       "      <td>None</td>\n",
       "      <td>None</td>\n",
       "      <td>None</td>\n",
       "      <td>None</td>\n",
       "      <td>727.6</td>\n",
       "      <td>736.7</td>\n",
       "      <td>7.47</td>\n",
       "      <td>7.38</td>\n",
       "    </tr>\n",
       "    <tr>\n",
       "      <th>4</th>\n",
       "      <td>BA</td>\n",
       "      <td>BA</td>\n",
       "      <td>BOEING CO</td>\n",
       "      <td>Boeing Company (The)</td>\n",
       "      <td>NYSE</td>\n",
       "      <td>USD</td>\n",
       "      <td>2015-12-31</td>\n",
       "      <td>A</td>\n",
       "      <td>None</td>\n",
       "      <td>2015</td>\n",
       "      <td>...</td>\n",
       "      <td>None</td>\n",
       "      <td>None</td>\n",
       "      <td>None</td>\n",
       "      <td>None</td>\n",
       "      <td>None</td>\n",
       "      <td>None</td>\n",
       "      <td>686.9</td>\n",
       "      <td>695.0</td>\n",
       "      <td>7.52</td>\n",
       "      <td>7.44</td>\n",
       "    </tr>\n",
       "    <tr>\n",
       "      <th>5</th>\n",
       "      <td>BA</td>\n",
       "      <td>BA</td>\n",
       "      <td>BOEING CO</td>\n",
       "      <td>Boeing Company (The)</td>\n",
       "      <td>NYSE</td>\n",
       "      <td>USD</td>\n",
       "      <td>2016-12-31</td>\n",
       "      <td>A</td>\n",
       "      <td>None</td>\n",
       "      <td>2016</td>\n",
       "      <td>...</td>\n",
       "      <td>None</td>\n",
       "      <td>None</td>\n",
       "      <td>None</td>\n",
       "      <td>None</td>\n",
       "      <td>None</td>\n",
       "      <td>None</td>\n",
       "      <td>635.5</td>\n",
       "      <td>642.8</td>\n",
       "      <td>7.70</td>\n",
       "      <td>7.61</td>\n",
       "    </tr>\n",
       "  </tbody>\n",
       "</table>\n",
       "<p>6 rows × 249 columns</p>\n",
       "</div>"
      ],
      "text/plain": [
       "     m_ticker ticker  comp_name           comp_name_2 exchange currency_code  \\\n",
       "None                                                                           \n",
       "0          BA     BA  BOEING CO  Boeing Company (The)     NYSE           USD   \n",
       "1          BA     BA  BOEING CO  Boeing Company (The)     NYSE           USD   \n",
       "2          BA     BA  BOEING CO  Boeing Company (The)     NYSE           USD   \n",
       "3          BA     BA  BOEING CO  Boeing Company (The)     NYSE           USD   \n",
       "4          BA     BA  BOEING CO  Boeing Company (The)     NYSE           USD   \n",
       "5          BA     BA  BOEING CO  Boeing Company (The)     NYSE           USD   \n",
       "\n",
       "     per_end_date per_type per_code  per_fisc_year       ...         \\\n",
       "None                                                     ...          \n",
       "0      2011-12-31        A     None           2011       ...          \n",
       "1      2012-12-31        A     None           2012       ...          \n",
       "2      2013-12-31        A     None           2013       ...          \n",
       "3      2014-12-31        A     None           2014       ...          \n",
       "4      2015-12-31        A     None           2015       ...          \n",
       "5      2016-12-31        A     None           2016       ...          \n",
       "\n",
       "      stock_based_compsn_qd  cash_flow_oper_activity_qd  \\\n",
       "None                                                      \n",
       "0                      None                        None   \n",
       "1                      None                        None   \n",
       "2                      None                        None   \n",
       "3                      None                        None   \n",
       "4                      None                        None   \n",
       "5                      None                        None   \n",
       "\n",
       "      net_change_prop_plant_equip_qd comm_stock_div_paid_qd  \\\n",
       "None                                                          \n",
       "0                               None                   None   \n",
       "1                               None                   None   \n",
       "2                               None                   None   \n",
       "3                               None                   None   \n",
       "4                               None                   None   \n",
       "5                               None                   None   \n",
       "\n",
       "     pref_stock_div_paid_qd  tot_comm_pref_stock_div_qd  wavg_shares_out  \\\n",
       "None                                                                       \n",
       "0                      None                        None            744.1   \n",
       "1                      None                        None            755.7   \n",
       "2                      None                        None            758.9   \n",
       "3                      None                        None            727.6   \n",
       "4                      None                        None            686.9   \n",
       "5                      None                        None            635.5   \n",
       "\n",
       "      wavg_shares_out_diluted  eps_basic_net  eps_diluted_net  \n",
       "None                                                           \n",
       "0                       750.6           5.39             5.34  \n",
       "1                       761.5           5.15             5.11  \n",
       "2                       767.6           6.03             5.96  \n",
       "3                       736.7           7.47             7.38  \n",
       "4                       695.0           7.52             7.44  \n",
       "5                       642.8           7.70             7.61  \n",
       "\n",
       "[6 rows x 249 columns]"
      ]
     },
     "execution_count": 1,
     "metadata": {},
     "output_type": "execute_result"
    }
   ],
   "source": [
    "#Importing Quandl API\n",
    "import quandl\n",
    "\n",
    "#API Key Application\n",
    "quandl.ApiConfig.api_key = '[API KEY]'\n",
    "quandl.ApiConfig.api_version = '2015-04-09'\n",
    "\n",
    "#Pull in Quandl data for BA (Boeing Co.)\n",
    "data = quandl.get_table('ZACKS/FC', ticker='BA', per_type='A')\n",
    "data.head(10)"
   ]
  },
  {
   "cell_type": "markdown",
   "metadata": {},
   "source": [
    "## Debt-to-Equity Ratio\n",
    "\n",
    "A company's Debt-to-Equity Ratio can be a good indicator of the inherent risk associated with a company. The Debt-to-Equity rato indicates how much debt a company has accrued versus shareholder equity in order to finance it's total assets. The Debt-to-Equity Ratio is as follows:\n",
    "\n",
    "**Debt-to-Equity Ratio = (Short-term Debt + Long-term Debt) / Shareholder Equity**"
   ]
  },
  {
   "cell_type": "code",
   "execution_count": 3,
   "metadata": {
    "collapsed": false
   },
   "outputs": [
    {
     "name": "stdout",
     "output_type": "stream",
     "text": [
      "None\n",
      "5    384.0\n",
      "Name: curr_portion_debt, dtype: float64\n",
      "None\n",
      "5    9568.0\n",
      "Name: tot_lterm_debt, dtype: float64\n"
     ]
    },
    {
     "data": {
      "text/plain": [
       "None\n",
       "5    11.347777\n",
       "dtype: float64"
      ]
     },
     "execution_count": 3,
     "metadata": {},
     "output_type": "execute_result"
    }
   ],
   "source": [
    "shorttermDebt = data[data['per_fisc_year']==2016]['curr_portion_debt']\n",
    "print (shorttermDebt)\n",
    "longtermDebt = data[data['per_fisc_year']==2016]['tot_lterm_debt']\n",
    "print (longtermDebt)\n",
    "\n",
    "shareholderEquity = data[data['per_fisc_year']==2016]['tot_share_holder_equity']\n",
    "\n",
    "\n",
    "debtToEquity = (shorttermDebt + longtermDebt) / shareholderEquity\n",
    "debtToEquity\n"
   ]
  },
  {
   "cell_type": "markdown",
   "metadata": {},
   "source": [
    "When we compare Boeing's Debt-to-Equity ratio of 11.3 to the [industry average](https://www.stock-analysis-on.net/NYSE/Company/Boeing-Co/Ratios/Long-term-Debt-and-Solvency), we can see a *massive* spike in Boeing's debt-to-equity ratio. After analyzing [Boeing's Debt and Shareholder equity levels of the previous years](http://financials.morningstar.com/ratios/r.html?t=BA&region=usa&culture=en-US), we can see that shareholder equity was greatly reduced. Further investigation leads us to news that Boeing initiatied a [Stock repurchase program in 2016](http://investors.boeing.com/investors/investor-news/press-release-details/2016/Boeing-Board-Raises-Dividend-Renews-Share-Repurchase-Authorization/default.aspx) - effectively reducing Shareholders Equity. \n",
    "\n",
    "The share buybacks are denoted in changes to [Treasury Stocks](http://www.investinganswers.com/financial-dictionary/stock-market/treasury-stock-2519) on the Balance Sheet. Below we can see how Treasury Stock changes by ~$7 Billion from 2015 to 2016 - indicating a repurchase program that is consistent with [Boeing's repurchase announcement](http://investors.boeing.com/investors/investor-news/press-release-details/2016/Boeing-Board-Raises-Dividend-Renews-Share-Repurchase-Authorization/default.aspx).\n"
   ]
  },
  {
   "cell_type": "code",
   "execution_count": 11,
   "metadata": {
    "collapsed": false
   },
   "outputs": [
    {
     "name": "stdout",
     "output_type": "stream",
     "text": [
      "None\n",
      "4    29568.0\n",
      "Name: treas_stock, dtype: float64\n",
      "None\n",
      "5    36097.0\n",
      "Name: treas_stock, dtype: float64\n"
     ]
    }
   ],
   "source": [
    "treasuryStock2015 = data[data['per_fisc_year']==2015]['treas_stock']\n",
    "print (treasuryStock2015)\n",
    "treasuryStock2016 = data[data['per_fisc_year']==2016]['treas_stock']\n",
    "print (treasuryStock2016)\n"
   ]
  },
  {
   "cell_type": "markdown",
   "metadata": {},
   "source": [
    "*NOTE: Companies generally will repurchase shares if they believe their stock is currently undervalued. By removing shares from the marketplace, the remaining shares will typically increase in value (since the denominator in \"Earnings-per-share\" is reduced, thus inflating the price of the stock). Furthermore, with less shares on the market, greater dividends will be paid out to the remaining shareholders.*"
   ]
  },
  {
   "cell_type": "markdown",
   "metadata": {},
   "source": [
    "## Debt-to-Assets Ratio\n",
    "\n",
    "The Debt-to-Asset Ratio indicates the percentage of assets that are funded through debt obligations. Ideally, the Debt-to-Asset Ratio should be low; a low Debt-to-Asset ratio showcases that the company is able to finance the majority of it's assets through Revenue and/or Shareholder Equity purchases. \n",
    "\n",
    "The Debt-to-Assets Ratio is as follows:\n",
    "\n",
    "**Debt-to-Assets = (Short-term Debt + Long-term Debt) / Total Assets**"
   ]
  },
  {
   "cell_type": "code",
   "execution_count": 4,
   "metadata": {
    "collapsed": false
   },
   "outputs": [
    {
     "data": {
      "text/plain": [
       "None\n",
       "5    0.110581\n",
       "dtype: float64"
      ]
     },
     "execution_count": 4,
     "metadata": {},
     "output_type": "execute_result"
    }
   ],
   "source": [
    "totalAssets = data[data['per_fisc_year']==2016]['tot_asset']\n",
    "\n",
    "debtToAsset = (shorttermDebt + longtermDebt) / totalAssets\n",
    "debtToAsset"
   ]
  },
  {
   "cell_type": "markdown",
   "metadata": {},
   "source": [
    "We can see the Boeing is *not* reliant on Debt to finance the majority of it's Assets; only 11% of assets are funded through debt. Therefore, Boeing despite their debt:equity ratio (note the stock buyback program), is still a stable company. "
   ]
  },
  {
   "cell_type": "markdown",
   "metadata": {},
   "source": [
    "## Interest Coverage Ratio\n",
    "\n",
    "With debt, comes interest. As a result, the Interest Coverage Ratio is a worthy solvency indicator that should be applied to Boeing's financials. The Interest Coverage Ratio will help analysts determine whether or not a company can meet interest expense payments with its Operating Income [(EBIT)](http://www.investopedia.com/terms/e/ebit.asp).\n",
    "\n",
    "The Interest Coverage Ratio is as following:\n",
    "\n",
    "**Interest Coverage Ratio = EBIT / Interest Expense**"
   ]
  },
  {
   "cell_type": "code",
   "execution_count": 20,
   "metadata": {
    "collapsed": false
   },
   "outputs": [
    {
     "data": {
      "text/plain": [
       "None\n",
       "5    19.25817\n",
       "dtype: float64"
      ]
     },
     "execution_count": 20,
     "metadata": {},
     "output_type": "execute_result"
    }
   ],
   "source": [
    "ebit = data[data['per_fisc_year']==2016]['ebit']\n",
    "\n",
    "interestExpense = data[data['per_fisc_year']==2016]['non_oper_int_exp']\n",
    "\n",
    "interestCoverageRatio = ebit / interestExpense\n",
    "interestCoverageRatio"
   ]
  },
  {
   "cell_type": "markdown",
   "metadata": {},
   "source": [
    "Our analysis indicates that Boeing can easily cover any interest expenses that it incurs on an annual basis. Further investigation yields that Boeing is borrowing its debt at a favorable, 3% interest rate."
   ]
  },
  {
   "cell_type": "code",
   "execution_count": 21,
   "metadata": {
    "collapsed": false
   },
   "outputs": [
    {
     "data": {
      "text/plain": [
       "None\n",
       "5    3.074759\n",
       "dtype: float64"
      ]
     },
     "execution_count": 21,
     "metadata": {},
     "output_type": "execute_result"
    }
   ],
   "source": [
    "shorttermDebt = data[data['per_fisc_year']==2016]['curr_portion_debt']\n",
    "longtermDebt = data[data['per_fisc_year']==2016]['tot_lterm_debt']\n",
    "\n",
    "interestRate = ((interestExpense) / (shorttermDebt + longtermDebt)) * 100\n",
    "interestRate"
   ]
  },
  {
   "cell_type": "markdown",
   "metadata": {
    "collapsed": true
   },
   "source": [
    "## Conclusion\n",
    "\n",
    "Solvency Ratios are critical in determining the long-term stability of a company - when analyzing a company's solvency, analysts must be aware of longer-term events such as stock repurchases and/or upcoming interest obligations. Furthermore, Solvency Ratios must always be compared to industry averages to determine whether or not the associated company is an outlier."
   ]
  }
 ],
 "metadata": {
  "anaconda-cloud": {},
  "kernelspec": {
   "display_name": "Python [Root]",
   "language": "python",
   "name": "Python [Root]"
  },
  "language_info": {
   "codemirror_mode": {
    "name": "ipython",
    "version": 3
   },
   "file_extension": ".py",
   "mimetype": "text/x-python",
   "name": "python",
   "nbconvert_exporter": "python",
   "pygments_lexer": "ipython3",
   "version": "3.5.2"
  }
 },
 "nbformat": 4,
 "nbformat_minor": 0
}
