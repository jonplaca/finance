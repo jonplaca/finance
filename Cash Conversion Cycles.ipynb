{
 "cells": [
  {
   "cell_type": "markdown",
   "metadata": {},
   "source": [
    "# Cash Conversion: Measuring a Company's Effectiveness\n",
    "\n",
    "\"Cash is King\" is a common saying in most businesses; cash is the most liquid asset, enabling business owners to immediately exchange cash for goods and services. However, how can you tell if your business is a *Cash King*? While there are many different metrics a business owner can look at, the *Cash Conversion Cycle* is a well-known measurement for gauging a business's capability to generate cash.\n",
    "\n",
    "## Understanding Cash Conversion Cycle\n",
    "\n",
    "In essence, the *Cash Conversion Cycle* measures the amount of time a business sees a return on their investment. For example, a Company must invest funds in order to build and sell a product. The following scenario illustrates a typical workflow in which we can derive the *Cash Conversion Cycle*:\n",
    "\n",
    "The aforementioned criteria can easily be explained in the following, typical scenario:\n",
    "1. Company A purchase materials from Supplier B to build a product and receives an invoice (see: \"`payable`\")\n",
    "2. Company A manufacturers and warehouses the product until the product is sold (see: \"`inventory`\")\n",
    "3. Company A sells the product to Customer B and sends the customer an invoice (see: \"`sales`\")\n",
    "\n",
    "As you can see, along each step of the way, there is a tangible cost in terms of money and time; the longer a customer takes to pay in Step #3, the longer your return on investment will be!\n",
    "\n",
    "The aforementioned steps can be formally broken down into three criteria:\n",
    "- **Days Payable Outstanding (DPO)**\n",
    "    - How long does it take *Company A* to pay its suppliers?\n",
    "    - DPO = payables/(cogs/days)\n",
    "- **Days Inventory Outstanding (DIO)**\n",
    "    - How long will the product stay in a warehouse before it's sold?\n",
    "    - DIO = (inventory / cogs)*days\n",
    "- **Days Sales Oustanding (DSO)**\n",
    "    - How quickly does *Company A*'s customers pay?\n",
    "    - DSO = receivables/(revenue/days)\n",
    "\n",
    "Combining all of these criteria will yield the **Cash Conversion Cycle (CCC)**, measured in \"days\":\n",
    "    \n",
    "`CCC = DIO + DSO - DPO`\n",
    "\n",
    "**In general, a lower Cash Conversion Cycle means the company is more effective at building and selling a product. **\n"
   ]
  },
  {
   "cell_type": "code",
   "execution_count": 2,
   "metadata": {
    "collapsed": false
   },
   "outputs": [],
   "source": [
    "%matplotlib inline\n",
    "import pandas as pd\n",
    "import matplotlib.pyplot as plt\n",
    "\n"
   ]
  },
  {
   "cell_type": "markdown",
   "metadata": {},
   "source": [
    "## Analyzing Microsoft's Cash Conversion Cycle\n",
    "\n",
    "In order to put our theory into practice, let's analyze Microsoft's Cash Conversion Cycle. In order to do so, we'll need access to Micrsoft's Income Statement and Balance Sheet. Fortunately, the Security Exchange Commission has an open API that we can access in order to pull Microsoft's Income Statement and Balance Sheet figures. \n"
   ]
  },
  {
   "cell_type": "code",
   "execution_count": 3,
   "metadata": {
    "collapsed": false
   },
   "outputs": [
    {
     "ename": "HTTPError",
     "evalue": "HTTP Error 403: Forbidden",
     "output_type": "error",
     "traceback": [
      "\u001b[0;31m---------------------------------------------------------------------------\u001b[0m",
      "\u001b[0;31mHTTPError\u001b[0m                                 Traceback (most recent call last)",
      "\u001b[0;32m<ipython-input-3-706de9265c25>\u001b[0m in \u001b[0;36m<module>\u001b[0;34m()\u001b[0m\n\u001b[1;32m      1\u001b[0m \u001b[0;31m#Fetch Financial information for 3 years from SEC\u001b[0m\u001b[0;34m\u001b[0m\u001b[0;34m\u001b[0m\u001b[0m\n\u001b[0;32m----> 2\u001b[0;31m \u001b[0mjson\u001b[0m \u001b[0;34m=\u001b[0m \u001b[0mpd\u001b[0m\u001b[0;34m.\u001b[0m\u001b[0mread_json\u001b[0m\u001b[0;34m(\u001b[0m\u001b[0;34m\"http://edgaronline.api.mashery.com/v2/corefinancials/ann.json?primarysymbols=MSFT&numperiods=3&appkey=zzucg97ubkch23ekabw5x4rt\"\u001b[0m\u001b[0;34m)\u001b[0m\u001b[0;34m\u001b[0m\u001b[0m\n\u001b[0m\u001b[1;32m      3\u001b[0m \u001b[0;34m\u001b[0m\u001b[0m\n\u001b[1;32m      4\u001b[0m \u001b[0;31m#Nested JSON data needs to be extracted\u001b[0m\u001b[0;34m\u001b[0m\u001b[0;34m\u001b[0m\u001b[0m\n\u001b[1;32m      5\u001b[0m \u001b[0mdata2016\u001b[0m \u001b[0;34m=\u001b[0m \u001b[0mpd\u001b[0m\u001b[0;34m.\u001b[0m\u001b[0mDataFrame\u001b[0m\u001b[0;34m(\u001b[0m\u001b[0mjson\u001b[0m\u001b[0;34m[\u001b[0m\u001b[0;34m'result'\u001b[0m\u001b[0;34m]\u001b[0m\u001b[0;34m[\u001b[0m\u001b[0;36m0\u001b[0m\u001b[0;34m]\u001b[0m\u001b[0;34m[\u001b[0m\u001b[0;36m0\u001b[0m\u001b[0;34m]\u001b[0m\u001b[0;34m[\u001b[0m\u001b[0;34m'values'\u001b[0m\u001b[0;34m]\u001b[0m\u001b[0;34m)\u001b[0m\u001b[0;34m\u001b[0m\u001b[0m\n",
      "\u001b[0;32m/Users/home/anaconda/lib/python3.5/site-packages/pandas/io/json.py\u001b[0m in \u001b[0;36mread_json\u001b[0;34m(path_or_buf, orient, typ, dtype, convert_axes, convert_dates, keep_default_dates, numpy, precise_float, date_unit, encoding, lines)\u001b[0m\n\u001b[1;32m    202\u001b[0m \u001b[0;34m\u001b[0m\u001b[0m\n\u001b[1;32m    203\u001b[0m     filepath_or_buffer, _, _ = get_filepath_or_buffer(path_or_buf,\n\u001b[0;32m--> 204\u001b[0;31m                                                       encoding=encoding)\n\u001b[0m\u001b[1;32m    205\u001b[0m     \u001b[0;32mif\u001b[0m \u001b[0misinstance\u001b[0m\u001b[0;34m(\u001b[0m\u001b[0mfilepath_or_buffer\u001b[0m\u001b[0;34m,\u001b[0m \u001b[0mcompat\u001b[0m\u001b[0;34m.\u001b[0m\u001b[0mstring_types\u001b[0m\u001b[0;34m)\u001b[0m\u001b[0;34m:\u001b[0m\u001b[0;34m\u001b[0m\u001b[0m\n\u001b[1;32m    206\u001b[0m         \u001b[0;32mtry\u001b[0m\u001b[0;34m:\u001b[0m\u001b[0;34m\u001b[0m\u001b[0m\n",
      "\u001b[0;32m/Users/home/anaconda/lib/python3.5/site-packages/pandas/io/common.py\u001b[0m in \u001b[0;36mget_filepath_or_buffer\u001b[0;34m(filepath_or_buffer, encoding, compression)\u001b[0m\n\u001b[1;32m    236\u001b[0m \u001b[0;34m\u001b[0m\u001b[0m\n\u001b[1;32m    237\u001b[0m     \u001b[0;32mif\u001b[0m \u001b[0m_is_url\u001b[0m\u001b[0;34m(\u001b[0m\u001b[0mfilepath_or_buffer\u001b[0m\u001b[0;34m)\u001b[0m\u001b[0;34m:\u001b[0m\u001b[0;34m\u001b[0m\u001b[0m\n\u001b[0;32m--> 238\u001b[0;31m         \u001b[0mreq\u001b[0m \u001b[0;34m=\u001b[0m \u001b[0m_urlopen\u001b[0m\u001b[0;34m(\u001b[0m\u001b[0mstr\u001b[0m\u001b[0;34m(\u001b[0m\u001b[0mfilepath_or_buffer\u001b[0m\u001b[0;34m)\u001b[0m\u001b[0;34m)\u001b[0m\u001b[0;34m\u001b[0m\u001b[0m\n\u001b[0m\u001b[1;32m    239\u001b[0m         \u001b[0;32mif\u001b[0m \u001b[0mcompression\u001b[0m \u001b[0;34m==\u001b[0m \u001b[0;34m'infer'\u001b[0m\u001b[0;34m:\u001b[0m\u001b[0;34m\u001b[0m\u001b[0m\n\u001b[1;32m    240\u001b[0m             \u001b[0mcontent_encoding\u001b[0m \u001b[0;34m=\u001b[0m \u001b[0mreq\u001b[0m\u001b[0;34m.\u001b[0m\u001b[0mheaders\u001b[0m\u001b[0;34m.\u001b[0m\u001b[0mget\u001b[0m\u001b[0;34m(\u001b[0m\u001b[0;34m'Content-Encoding'\u001b[0m\u001b[0;34m,\u001b[0m \u001b[0;32mNone\u001b[0m\u001b[0;34m)\u001b[0m\u001b[0;34m\u001b[0m\u001b[0m\n",
      "\u001b[0;32m/Users/home/anaconda/lib/python3.5/urllib/request.py\u001b[0m in \u001b[0;36murlopen\u001b[0;34m(url, data, timeout, cafile, capath, cadefault, context)\u001b[0m\n\u001b[1;32m    161\u001b[0m     \u001b[0;32melse\u001b[0m\u001b[0;34m:\u001b[0m\u001b[0;34m\u001b[0m\u001b[0m\n\u001b[1;32m    162\u001b[0m         \u001b[0mopener\u001b[0m \u001b[0;34m=\u001b[0m \u001b[0m_opener\u001b[0m\u001b[0;34m\u001b[0m\u001b[0m\n\u001b[0;32m--> 163\u001b[0;31m     \u001b[0;32mreturn\u001b[0m \u001b[0mopener\u001b[0m\u001b[0;34m.\u001b[0m\u001b[0mopen\u001b[0m\u001b[0;34m(\u001b[0m\u001b[0murl\u001b[0m\u001b[0;34m,\u001b[0m \u001b[0mdata\u001b[0m\u001b[0;34m,\u001b[0m \u001b[0mtimeout\u001b[0m\u001b[0;34m)\u001b[0m\u001b[0;34m\u001b[0m\u001b[0m\n\u001b[0m\u001b[1;32m    164\u001b[0m \u001b[0;34m\u001b[0m\u001b[0m\n\u001b[1;32m    165\u001b[0m \u001b[0;32mdef\u001b[0m \u001b[0minstall_opener\u001b[0m\u001b[0;34m(\u001b[0m\u001b[0mopener\u001b[0m\u001b[0;34m)\u001b[0m\u001b[0;34m:\u001b[0m\u001b[0;34m\u001b[0m\u001b[0m\n",
      "\u001b[0;32m/Users/home/anaconda/lib/python3.5/urllib/request.py\u001b[0m in \u001b[0;36mopen\u001b[0;34m(self, fullurl, data, timeout)\u001b[0m\n\u001b[1;32m    470\u001b[0m         \u001b[0;32mfor\u001b[0m \u001b[0mprocessor\u001b[0m \u001b[0;32min\u001b[0m \u001b[0mself\u001b[0m\u001b[0;34m.\u001b[0m\u001b[0mprocess_response\u001b[0m\u001b[0;34m.\u001b[0m\u001b[0mget\u001b[0m\u001b[0;34m(\u001b[0m\u001b[0mprotocol\u001b[0m\u001b[0;34m,\u001b[0m \u001b[0;34m[\u001b[0m\u001b[0;34m]\u001b[0m\u001b[0;34m)\u001b[0m\u001b[0;34m:\u001b[0m\u001b[0;34m\u001b[0m\u001b[0m\n\u001b[1;32m    471\u001b[0m             \u001b[0mmeth\u001b[0m \u001b[0;34m=\u001b[0m \u001b[0mgetattr\u001b[0m\u001b[0;34m(\u001b[0m\u001b[0mprocessor\u001b[0m\u001b[0;34m,\u001b[0m \u001b[0mmeth_name\u001b[0m\u001b[0;34m)\u001b[0m\u001b[0;34m\u001b[0m\u001b[0m\n\u001b[0;32m--> 472\u001b[0;31m             \u001b[0mresponse\u001b[0m \u001b[0;34m=\u001b[0m \u001b[0mmeth\u001b[0m\u001b[0;34m(\u001b[0m\u001b[0mreq\u001b[0m\u001b[0;34m,\u001b[0m \u001b[0mresponse\u001b[0m\u001b[0;34m)\u001b[0m\u001b[0;34m\u001b[0m\u001b[0m\n\u001b[0m\u001b[1;32m    473\u001b[0m \u001b[0;34m\u001b[0m\u001b[0m\n\u001b[1;32m    474\u001b[0m         \u001b[0;32mreturn\u001b[0m \u001b[0mresponse\u001b[0m\u001b[0;34m\u001b[0m\u001b[0m\n",
      "\u001b[0;32m/Users/home/anaconda/lib/python3.5/urllib/request.py\u001b[0m in \u001b[0;36mhttp_response\u001b[0;34m(self, request, response)\u001b[0m\n\u001b[1;32m    580\u001b[0m         \u001b[0;32mif\u001b[0m \u001b[0;32mnot\u001b[0m \u001b[0;34m(\u001b[0m\u001b[0;36m200\u001b[0m \u001b[0;34m<=\u001b[0m \u001b[0mcode\u001b[0m \u001b[0;34m<\u001b[0m \u001b[0;36m300\u001b[0m\u001b[0;34m)\u001b[0m\u001b[0;34m:\u001b[0m\u001b[0;34m\u001b[0m\u001b[0m\n\u001b[1;32m    581\u001b[0m             response = self.parent.error(\n\u001b[0;32m--> 582\u001b[0;31m                 'http', request, response, code, msg, hdrs)\n\u001b[0m\u001b[1;32m    583\u001b[0m \u001b[0;34m\u001b[0m\u001b[0m\n\u001b[1;32m    584\u001b[0m         \u001b[0;32mreturn\u001b[0m \u001b[0mresponse\u001b[0m\u001b[0;34m\u001b[0m\u001b[0m\n",
      "\u001b[0;32m/Users/home/anaconda/lib/python3.5/urllib/request.py\u001b[0m in \u001b[0;36merror\u001b[0;34m(self, proto, *args)\u001b[0m\n\u001b[1;32m    508\u001b[0m         \u001b[0;32mif\u001b[0m \u001b[0mhttp_err\u001b[0m\u001b[0;34m:\u001b[0m\u001b[0;34m\u001b[0m\u001b[0m\n\u001b[1;32m    509\u001b[0m             \u001b[0margs\u001b[0m \u001b[0;34m=\u001b[0m \u001b[0;34m(\u001b[0m\u001b[0mdict\u001b[0m\u001b[0;34m,\u001b[0m \u001b[0;34m'default'\u001b[0m\u001b[0;34m,\u001b[0m \u001b[0;34m'http_error_default'\u001b[0m\u001b[0;34m)\u001b[0m \u001b[0;34m+\u001b[0m \u001b[0morig_args\u001b[0m\u001b[0;34m\u001b[0m\u001b[0m\n\u001b[0;32m--> 510\u001b[0;31m             \u001b[0;32mreturn\u001b[0m \u001b[0mself\u001b[0m\u001b[0;34m.\u001b[0m\u001b[0m_call_chain\u001b[0m\u001b[0;34m(\u001b[0m\u001b[0;34m*\u001b[0m\u001b[0margs\u001b[0m\u001b[0;34m)\u001b[0m\u001b[0;34m\u001b[0m\u001b[0m\n\u001b[0m\u001b[1;32m    511\u001b[0m \u001b[0;34m\u001b[0m\u001b[0m\n\u001b[1;32m    512\u001b[0m \u001b[0;31m# XXX probably also want an abstract factory that knows when it makes\u001b[0m\u001b[0;34m\u001b[0m\u001b[0;34m\u001b[0m\u001b[0m\n",
      "\u001b[0;32m/Users/home/anaconda/lib/python3.5/urllib/request.py\u001b[0m in \u001b[0;36m_call_chain\u001b[0;34m(self, chain, kind, meth_name, *args)\u001b[0m\n\u001b[1;32m    442\u001b[0m         \u001b[0;32mfor\u001b[0m \u001b[0mhandler\u001b[0m \u001b[0;32min\u001b[0m \u001b[0mhandlers\u001b[0m\u001b[0;34m:\u001b[0m\u001b[0;34m\u001b[0m\u001b[0m\n\u001b[1;32m    443\u001b[0m             \u001b[0mfunc\u001b[0m \u001b[0;34m=\u001b[0m \u001b[0mgetattr\u001b[0m\u001b[0;34m(\u001b[0m\u001b[0mhandler\u001b[0m\u001b[0;34m,\u001b[0m \u001b[0mmeth_name\u001b[0m\u001b[0;34m)\u001b[0m\u001b[0;34m\u001b[0m\u001b[0m\n\u001b[0;32m--> 444\u001b[0;31m             \u001b[0mresult\u001b[0m \u001b[0;34m=\u001b[0m \u001b[0mfunc\u001b[0m\u001b[0;34m(\u001b[0m\u001b[0;34m*\u001b[0m\u001b[0margs\u001b[0m\u001b[0;34m)\u001b[0m\u001b[0;34m\u001b[0m\u001b[0m\n\u001b[0m\u001b[1;32m    445\u001b[0m             \u001b[0;32mif\u001b[0m \u001b[0mresult\u001b[0m \u001b[0;32mis\u001b[0m \u001b[0;32mnot\u001b[0m \u001b[0;32mNone\u001b[0m\u001b[0;34m:\u001b[0m\u001b[0;34m\u001b[0m\u001b[0m\n\u001b[1;32m    446\u001b[0m                 \u001b[0;32mreturn\u001b[0m \u001b[0mresult\u001b[0m\u001b[0;34m\u001b[0m\u001b[0m\n",
      "\u001b[0;32m/Users/home/anaconda/lib/python3.5/urllib/request.py\u001b[0m in \u001b[0;36mhttp_error_default\u001b[0;34m(self, req, fp, code, msg, hdrs)\u001b[0m\n\u001b[1;32m    588\u001b[0m \u001b[0;32mclass\u001b[0m \u001b[0mHTTPDefaultErrorHandler\u001b[0m\u001b[0;34m(\u001b[0m\u001b[0mBaseHandler\u001b[0m\u001b[0;34m)\u001b[0m\u001b[0;34m:\u001b[0m\u001b[0;34m\u001b[0m\u001b[0m\n\u001b[1;32m    589\u001b[0m     \u001b[0;32mdef\u001b[0m \u001b[0mhttp_error_default\u001b[0m\u001b[0;34m(\u001b[0m\u001b[0mself\u001b[0m\u001b[0;34m,\u001b[0m \u001b[0mreq\u001b[0m\u001b[0;34m,\u001b[0m \u001b[0mfp\u001b[0m\u001b[0;34m,\u001b[0m \u001b[0mcode\u001b[0m\u001b[0;34m,\u001b[0m \u001b[0mmsg\u001b[0m\u001b[0;34m,\u001b[0m \u001b[0mhdrs\u001b[0m\u001b[0;34m)\u001b[0m\u001b[0;34m:\u001b[0m\u001b[0;34m\u001b[0m\u001b[0m\n\u001b[0;32m--> 590\u001b[0;31m         \u001b[0;32mraise\u001b[0m \u001b[0mHTTPError\u001b[0m\u001b[0;34m(\u001b[0m\u001b[0mreq\u001b[0m\u001b[0;34m.\u001b[0m\u001b[0mfull_url\u001b[0m\u001b[0;34m,\u001b[0m \u001b[0mcode\u001b[0m\u001b[0;34m,\u001b[0m \u001b[0mmsg\u001b[0m\u001b[0;34m,\u001b[0m \u001b[0mhdrs\u001b[0m\u001b[0;34m,\u001b[0m \u001b[0mfp\u001b[0m\u001b[0;34m)\u001b[0m\u001b[0;34m\u001b[0m\u001b[0m\n\u001b[0m\u001b[1;32m    591\u001b[0m \u001b[0;34m\u001b[0m\u001b[0m\n\u001b[1;32m    592\u001b[0m \u001b[0;32mclass\u001b[0m \u001b[0mHTTPRedirectHandler\u001b[0m\u001b[0;34m(\u001b[0m\u001b[0mBaseHandler\u001b[0m\u001b[0;34m)\u001b[0m\u001b[0;34m:\u001b[0m\u001b[0;34m\u001b[0m\u001b[0m\n",
      "\u001b[0;31mHTTPError\u001b[0m: HTTP Error 403: Forbidden"
     ]
    }
   ],
   "source": [
    "#Fetch Financial information for 3 years from SEC\n",
    "json = pd.read_json(\"http://edgaronline.api.mashery.com/v2/corefinancials/ann.json?primarysymbols=MSFT&numperiods=3&appkey=[API KEY HERE]\")\n",
    "\n",
    "#Nested JSON data needs to be extracted\n",
    "data2016 = pd.DataFrame(json['result'][0][0]['values'])\n",
    "data2015 = pd.DataFrame(json['result'][0][1]['values'])\n",
    "data2014 = pd.DataFrame(json['result'][0][2]['values'])"
   ]
  },
  {
   "cell_type": "markdown",
   "metadata": {},
   "source": [
    "## Munging through Nested JSON\n",
    "\n",
    "EDGAR's API is formatted in .json which is supposedly easy to parse. However, I had a difficult time parsing through the nested JSON that EDGAR was presenting. Apparently, parsing through nested JSON is a common problem for most `pandas` users. \n",
    "\n",
    "In order to make the data easier to manipulate, I merged each year's financial data in a dataframe."
   ]
  },
  {
   "cell_type": "code",
   "execution_count": 287,
   "metadata": {
    "collapsed": false
   },
   "outputs": [
    {
     "data": {
      "text/html": [
       "<div>\n",
       "<table border=\"1\" class=\"dataframe\">\n",
       "  <thead>\n",
       "    <tr style=\"text-align: right;\">\n",
       "      <th></th>\n",
       "      <th>2014</th>\n",
       "      <th>2015</th>\n",
       "      <th>2016</th>\n",
       "    </tr>\n",
       "    <tr>\n",
       "      <th>Field</th>\n",
       "      <th></th>\n",
       "      <th></th>\n",
       "      <th></th>\n",
       "    </tr>\n",
       "  </thead>\n",
       "  <tbody>\n",
       "    <tr>\n",
       "      <th>cik</th>\n",
       "      <td>0000789019</td>\n",
       "      <td>0000789019</td>\n",
       "      <td>0000789019</td>\n",
       "    </tr>\n",
       "    <tr>\n",
       "      <th>companyname</th>\n",
       "      <td>MICROSOFT CORP</td>\n",
       "      <td>MICROSOFT CORP</td>\n",
       "      <td>MICROSOFT CORP</td>\n",
       "    </tr>\n",
       "    <tr>\n",
       "      <th>entityid</th>\n",
       "      <td>8528</td>\n",
       "      <td>8528</td>\n",
       "      <td>8528</td>\n",
       "    </tr>\n",
       "    <tr>\n",
       "      <th>primaryexchange</th>\n",
       "      <td>Nasdaq Global Market</td>\n",
       "      <td>Nasdaq Global Market</td>\n",
       "      <td>Nasdaq Global Market</td>\n",
       "    </tr>\n",
       "    <tr>\n",
       "      <th>marketoperator</th>\n",
       "      <td>NASDAQ</td>\n",
       "      <td>NASDAQ</td>\n",
       "      <td>NASDAQ</td>\n",
       "    </tr>\n",
       "  </tbody>\n",
       "</table>\n",
       "</div>"
      ],
      "text/plain": [
       "                                 2014                  2015  \\\n",
       "Field                                                         \n",
       "cik                        0000789019            0000789019   \n",
       "companyname            MICROSOFT CORP        MICROSOFT CORP   \n",
       "entityid                         8528                  8528   \n",
       "primaryexchange  Nasdaq Global Market  Nasdaq Global Market   \n",
       "marketoperator                 NASDAQ                NASDAQ   \n",
       "\n",
       "                                 2016  \n",
       "Field                                  \n",
       "cik                        0000789019  \n",
       "companyname            MICROSOFT CORP  \n",
       "entityid                         8528  \n",
       "primaryexchange  Nasdaq Global Market  \n",
       "marketoperator                 NASDAQ  "
      ]
     },
     "execution_count": 287,
     "metadata": {},
     "output_type": "execute_result"
    }
   ],
   "source": [
    "#Merge 3-year financial data into a workable dataframe\n",
    "df1 = pd.merge(data2014, data2015, on='field')\n",
    "df2 = pd.merge(df1,data2016,on='field')\n",
    "\n",
    "#Merge multiple dataframes together (room for improvement)\n",
    "df2.columns = ['Field','2014','2015','2016']\n",
    "df3 = df2.set_index(\"Field\")\n",
    "\n",
    "df3.head(5)"
   ]
  },
  {
   "cell_type": "markdown",
   "metadata": {},
   "source": [
    "## Extracting relevant information\n",
    "\n",
    "As we've previously discussed, we are looking specifically at the Income Statement and Balance Sheet for important information. In order to calculate the DSO, DPO, and DIO, we'll need the following information:\n",
    "\n",
    "- Revenue\n",
    "- Cost of Revenue\n",
    "- Total Receivables\n",
    "- Inventories\n",
    "- Payables\n",
    "\n",
    "Unfortunately, during my data extraction, I could not find `payables` in the EDGAR API. Therefore, as you can see below, I manually entered the information. Note, I obtained the payable information from Microsoft's [10-K](https://en.wikipedia.org/wiki/Form_10-K) (annual) reports. "
   ]
  },
  {
   "cell_type": "code",
   "execution_count": 252,
   "metadata": {
    "collapsed": false
   },
   "outputs": [],
   "source": [
    "#Extract relevant metrics from raw, merged dataframe\n",
    "\n",
    "#global\n",
    "days = 365\n",
    "\n",
    "#Income Statement\n",
    "revenue = df3.loc['totalrevenue',:]\n",
    "cogs = df3.loc['costofrevenue',:]\n",
    "\n",
    "#Balance Sheet - Assets\n",
    "receivables = df3.loc['totalreceivablesnet',:]\n",
    "inventory = df3.loc['inventoriesnet',:]\n",
    "\n",
    "#Balance Sheet - Liabilities\n",
    "payables = [7432000000,6591000000,6898000000] #hardcoded since EDGAR data was missing"
   ]
  },
  {
   "cell_type": "markdown",
   "metadata": {},
   "source": [
    "# Calculating Days Sales Outstanding\n",
    "\n",
    "Calculating DSO includes dividing `receivables` by our `revenue` per `day`. Abstractly, one can view this metric as the ratio between the amount of cash that needs to be collected and your average daily sales; if a company has a high DSO, they are making sales but not collecting the cash effectively."
   ]
  },
  {
   "cell_type": "code",
   "execution_count": 282,
   "metadata": {
    "collapsed": false
   },
   "outputs": [
    {
     "data": {
      "text/plain": [
       "2014    82.1526\n",
       "2015    69.8485\n",
       "2016    78.1892\n",
       "dtype: object"
      ]
     },
     "execution_count": 282,
     "metadata": {},
     "output_type": "execute_result"
    }
   ],
   "source": [
    "#Days Sales Outstanding\n",
    "dso = receivables/(revenue/days)\n",
    "dso"
   ]
  },
  {
   "cell_type": "markdown",
   "metadata": {},
   "source": [
    "It appears that Microsoft has reduced their average DSO since 2014. Reduction in DSOs can be attributed to more favorable contracting terms and/or providing incentives to their customers to pay earlier (e.g a \"10/2\" schedule gives customers a 2% discount on the invoice if they pay it within 10 days). "
   ]
  },
  {
   "cell_type": "markdown",
   "metadata": {},
   "source": [
    "# Calculating Days Inventory Outstanding\n",
    "\n",
    "Days Inventory Outstanding will showcase the amount of time inventory stays within a warehouse. Ideally the DIO would be zero, meaning that once a product is manufacturered, it is immediately sold. If a business were able to carry no inventory, there would be no need for renting a warehouse, thus freeing up capital that can be spent on other facets of the business. However, in reality, most businesses do carry some type of inventory; for manufacturers the inventory is a finished product.\n",
    "\n",
    "*NOTE: Other industries can use the idea of \"inventory\" to increase efficiency. For example, hotels might consider vacant rooms as \"inventory\" since they're sitting idle & unsold.*"
   ]
  },
  {
   "cell_type": "code",
   "execution_count": 284,
   "metadata": {
    "collapsed": false
   },
   "outputs": [
    {
     "data": {
      "text/plain": [
       "2014    35.8557\n",
       "2015     32.061\n",
       "2016    25.0645\n",
       "dtype: object"
      ]
     },
     "execution_count": 284,
     "metadata": {},
     "output_type": "execute_result"
    }
   ],
   "source": [
    "#Days Inventory\n",
    "dio = (inventory / cogs)*days\n",
    "dio\n"
   ]
  },
  {
   "cell_type": "markdown",
   "metadata": {},
   "source": [
    "Here we can see that Microsoft has consistently improved its DIO metric. An explanation for improved DIO could be due to a better Sales organization (i.e selling products faster), or improved production/inventory operations (balancing production and inventory with customer demand). \n",
    "\n",
    "*NOTE: Inventory Operations is a fascinating and well-researched issue. I would highly recommend reading Eliyahu Goldratt's [\"The Goal\"](https://www.amazon.com/dp/B002LHRM2O/ref=dp-kindle-redirect?_encoding=UTF8&btkr=1) if you're interested in this topic. Eliyahu describes the [Theory of Constraints](https://en.wikipedia.org/wiki/Theory_of_constraints) and it's financial impact on large and small businesses.\n",
    "\n"
   ]
  },
  {
   "cell_type": "markdown",
   "metadata": {},
   "source": [
    "## Calculating Days Payable Outstanding\n",
    "\n",
    "Days Payable Outstanding is used to measure the amount of time a Company takes to pay its suppliers. DPO is a metric that can be easily controlled. Ideally, the DPO value would be infinite (meaning that you never pay your suppliers). However, in practice, if you failed to pay your suppliers, your company would be sued and gain a poor reputation."
   ]
  },
  {
   "cell_type": "code",
   "execution_count": 253,
   "metadata": {
    "collapsed": false
   },
   "outputs": [
    {
     "data": {
      "text/plain": [
       "2014     100.18\n",
       "2015    72.8166\n",
       "2016    76.8081\n",
       "Name: costofrevenue, dtype: object"
      ]
     },
     "execution_count": 253,
     "metadata": {},
     "output_type": "execute_result"
    }
   ],
   "source": [
    "#Days Payable\n",
    "dpo = payables/(cogs/days)\n",
    "dpo"
   ]
  },
  {
   "cell_type": "markdown",
   "metadata": {},
   "source": [
    "Clearly, we can see the Microsoft was paying vendors an average of 100 days after receiving an invoice. However, in 2015 and 2016, Microsoft greatly reduced their DPO to a respectable 72-76 days - perhaps Microsoft was able to receive more favorable terms from their suppliers if they agreed to pay earlier."
   ]
  },
  {
   "cell_type": "markdown",
   "metadata": {},
   "source": [
    "## Finally, Cash Conversion Cycle\n",
    "\n",
    "With DIO, DSO, and DPO calculated we are ready to calculate the Cash Conversion Cycle."
   ]
  },
  {
   "cell_type": "code",
   "execution_count": 229,
   "metadata": {
    "collapsed": false
   },
   "outputs": [
    {
     "data": {
      "text/plain": [
       "2014    17.8281\n",
       "2015    29.0928\n",
       "2016    26.4456\n",
       "dtype: object"
      ]
     },
     "execution_count": 229,
     "metadata": {},
     "output_type": "execute_result"
    }
   ],
   "source": [
    "#Cash Conversion Cycle\n",
    "ccc = dio + dso - dpo\n",
    "ccc"
   ]
  },
  {
   "cell_type": "markdown",
   "metadata": {},
   "source": [
    "Remember, a lower CCC illustrates a more effective organization. Therefore, it appears that, while Microsoft has been more effective in generating cash since 2015, Microsoft was *most* effective in 2014. \n",
    "\n",
    "If we look back at our three criteria (DIO, DSO, and DPO), we can see that 2014's change in DPO had a huge impact! Since Microsoft was willing (or forced) to reduce their DPO, they negatively impacted their Cash Conversion Cycle. "
   ]
  },
  {
   "cell_type": "markdown",
   "metadata": {
    "collapsed": true
   },
   "source": [
    "## Conclusion\n",
    "\n",
    "While the aforementioned example was a simplistic view, the *Cash Conversion Cycle* of a company can highlight the (in)effectiveness of an organization. \n",
    "\n",
    "Ideally, with further investigation, I would have liked to compare Microsoft's CCC with industry competitors' to analyze Microsoft's relative performance. However, with limited time, I only focused on Microsoft's capabilities (none the less, still a valuable investigation).\n",
    "\n",
    "Therefore, next time someone says \"Cash is King\", ask them how many days their Cash Conversion Cycle is :) "
   ]
  },
  {
   "cell_type": "code",
   "execution_count": null,
   "metadata": {
    "collapsed": true
   },
   "outputs": [],
   "source": []
  }
 ],
 "metadata": {
  "anaconda-cloud": {},
  "kernelspec": {
   "display_name": "Python [Root]",
   "language": "python",
   "name": "Python [Root]"
  },
  "language_info": {
   "codemirror_mode": {
    "name": "ipython",
    "version": 3
   },
   "file_extension": ".py",
   "mimetype": "text/x-python",
   "name": "python",
   "nbconvert_exporter": "python",
   "pygments_lexer": "ipython3",
   "version": "3.5.2"
  }
 },
 "nbformat": 4,
 "nbformat_minor": 0
}
